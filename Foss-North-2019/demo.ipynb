{
 "cells": [
  {
   "cell_type": "code",
   "execution_count": 40,
   "metadata": {},
   "outputs": [
    {
     "name": "stdout",
     "output_type": "stream",
     "text": [
      "               .\n",
      "              ..:\n",
      "            Hultnér\n",
      "          Technologies\n",
      "\n",
      "@ahultner | https://hultner.se/\n"
     ]
    }
   ],
   "source": [
    "def s(x): return \" \"*(10+x)\n",
    "print(s(5)+\".\\n\"+s(4)+\"..:\\n\"+s(2)+\"Hultnér\\n\"+s(0)+\"Technologies\\n\\n@ahultner | https://hultner.se/\")\n",
    "import hypothesis\n",
    "from hypothesis import given, assume, example\n",
    "import hypothesis.strategies as st\n",
    "import pytest\n",
    "import ipytest\n",
    "ipytest.config(rewrite_asserts=True, magics=True)\n",
    "__file__ = \"demo.ipynb\""
   ]
  },
  {
   "cell_type": "markdown",
   "metadata": {},
   "source": [
    "#  Property based testing\n",
    "## Case: SweBonk\n",
    "In this demo I will use a pretend bank named **\"SweBonk, _the_ bank\"**, Bonk have some problems with their code which they need help with.\n",
    "\n",
    "Let's start with a function which SweBonk is using for trading"
   ]
  },
  {
   "cell_type": "code",
   "execution_count": 9,
   "metadata": {},
   "outputs": [],
   "source": [
    "from typing import Tuple, List, Optional\n",
    "\n",
    "Price = float\n",
    "# A Bonk customer will be prefixed with BNK and suffixed with a id e.g. BNK89\n",
    "# Rival banks customers are prefixed RVL, eg RVL1209-3844-2534\n",
    "Customer = str \n",
    "Order = Tuple[Customer, Price]\n",
    "\n",
    "def match_buy(ticker: str, buyer: Order, sellers: List[Order]) -> Optional[Order]:\n",
    "    \"\"\"\n",
    "    Bonk stock trade buy order matcher\n",
    "    \n",
    "    Args:\n",
    "        ticker: The \"ticker\" id of stock to trade\n",
    "        sellers: Sellers wanting to sell stocks at the pricer the buyer gave\n",
    "    \n",
    "    Returns: \n",
    "        Matched seller, None if we couldn't complete the trade\n",
    "    \"\"\"\n",
    "    # First try to find internal customers so we don't have to trade with other bank\n",
    "    matched_bonk_customer=((seller, price) for (seller, price) in sellers \n",
    "        if buyer[1] == price\n",
    "         and seller[:3] == buyer[0][:3]\n",
    "         # It's illegal to trade stocks with yourself\n",
    "         and seller is not buyer[0]\n",
    "    )\n",
    "    \n",
    "    try:\n",
    "        match = next(matched_bonk_customer)\n",
    "        return match\n",
    "    except StopIteration:\n",
    "        # No couldn't match a bonk customer, keep looking\n",
    "        pass\n",
    "        \n",
    "    matched_customer=((seller, price) for (seller, price) in sellers \n",
    "        if buyer[1] == price and seller is not buyer[0]\n",
    "    )\n",
    "    try: \n",
    "        return next(matched_customer)\n",
    "    except StopIteration:\n",
    "        # Couldn't match any customer\n",
    "        return None\n"
   ]
  },
  {
   "cell_type": "markdown",
   "metadata": {},
   "source": [
    "SweBonk have been quite through in their testing, they have a 100% coverage and are confident in their solution. \n",
    "They've generalized the test method and are trying a large set of inputs known to trigger different edge cases."
   ]
  },
  {
   "cell_type": "code",
   "execution_count": 13,
   "metadata": {},
   "outputs": [
    {
     "name": "stdout",
     "output_type": "stream",
     "text": [
      ".                                                                                                                                                      [100%]\n"
     ]
    }
   ],
   "source": [
    "%%run_pytest[clean] -qq --disable-pytest-warnings \n",
    "\n",
    "sellers = [\n",
    "    # Illegal, will be skipped\n",
    "    (\"BNK421\", 42.0),\n",
    "    # Rival bank match, we'd rather want Bonk customers\n",
    "    (\"RVL1209-1321-2348\", 42.20),\n",
    "    (\"RVL1209-9323-2148\", 42.0),\n",
    "    (\"BNK12\", 42.20),\n",
    "    # This is the \"best\" match\n",
    "    (\"BNK01\", 42.0),\n",
    "]\n",
    "\n",
    "def test_trade():\n",
    "    verify_trade(buyer=(\"BNK421\", 42.0))\n",
    "    verify_trade(buyer=(\"BNK421\", 42.2))\n",
    "    verify_trade(buyer=(\"BNK12\", 42.2))\n",
    "    verify_trade(buyer=(\"BNK01\", 42.2))\n",
    "    verify_trade(buyer=(\"BNK123\", 42.2))\n",
    "    verify_trade(buyer=(\"BNK123\", 42.2))\n",
    "    verify_trade(buyer=(\"BNK123\", 40))\n",
    "    \n",
    "\n",
    "def verify_trade(buyer):\n",
    "    winner = match_buy(\"APL\", buyer, sellers)\n",
    "    # If there's no winner\n",
    "    if winner is None:\n",
    "        for (seller, price) in sellers:\n",
    "            # Then assert at no seller price match\n",
    "            assert price != buyer[1]\n",
    "        return\n",
    "    \n",
    "    # A winner was found, continue        \n",
    "    # Not traded with yourself\n",
    "    assert winner[0] != buyer[0]\n",
    "    # Price is a match\n",
    "    assert winner[1] == buyer[1]\n",
    "    \n",
    "    # If winner is from another bank, assert it could match internally\n",
    "    if winner[0][:3] != buyer[0][:3]:\n",
    "        for seller in sellers:\n",
    "            if buyer[1] == seller[1] and buyer != seller:\n",
    "                assert seller[0][:3] != buyer[0][:3]\n"
   ]
  },
  {
   "cell_type": "markdown",
   "metadata": {},
   "source": [
    "Everything looks fine and tests are passing but SweBonk are still having problems with illegal trades being made on their platform. They can't figure out why but have hired Hultnér Technologies to look if there's room for improvment in their testing."
   ]
  },
  {
   "cell_type": "code",
   "execution_count": 14,
   "metadata": {},
   "outputs": [
    {
     "name": "stdout",
     "output_type": "stream",
     "text": [
      "F                                                                                                                                                      [100%]\n",
      "========================================================================== FAILURES ==========================================================================\n",
      "_________________________________________________________________________ test_trade _________________________________________________________________________\n",
      "\n",
      "    @given(\n",
      ">       orders,\n",
      "        st.lists(orders),\n",
      "    )\n",
      "    def test_trade(buyer, sellers):\n",
      "\n",
      "<ipython-input-14-34bb1f303cde>:6: \n",
      "_ _ _ _ _ _ _ _ _ _ _ _ _ _ _ _ _ _ _ _ _ _ _ _ _ _ _ _ _ _ _ _ _ _ _ _ _ _ _ _ _ _ _ _ _ _ _ _ _ _ _ _ _ _ _ _ _ _ _ _ _ _ _ _ _ _ _ _ _ _ _ _ _ _ _ _ _ _ _ \n",
      "\n",
      "buyer = ('0000', 0.1), sellers = [('0000', 0.1)]\n",
      "\n",
      "    @given(\n",
      "        orders,\n",
      "        st.lists(orders),\n",
      "    )\n",
      "    def test_trade(buyer, sellers):\n",
      "        winner = match_buy(\"APL\", buyer, sellers)\n",
      "        assume(winner is not None)\n",
      "        # Not traded with yourself\n",
      ">       assert winner[0] != buyer[0]\n",
      "E       AssertionError: assert '0000' != '0000'\n",
      "\n",
      "<ipython-input-14-34bb1f303cde>:13: AssertionError\n",
      "------------------------------------------------------------------------- Hypothesis -------------------------------------------------------------------------\n",
      "Falsifying example: test_trade(buyer=('0000', 0.1), sellers=[('0000', 0.1)])\n"
     ]
    }
   ],
   "source": [
    "%%run_pytest[clean] -qq --disable-pytest-warnings \n",
    "\n",
    "customers = st.text(min_size=4)\n",
    "orders = st.tuples(customers, st.floats(min_value=0.1))\n",
    "\n",
    "@given(\n",
    "    orders,\n",
    "    st.lists(orders),\n",
    ")\n",
    "def test_trade(buyer, sellers):\n",
    "    winner = match_buy(\"APL\", buyer, sellers)\n",
    "    assume(winner is not None)\n",
    "    # Not traded with yourself\n",
    "    assert winner[0] != buyer[0]\n",
    "    # Price is a match\n",
    "    assert winner[1] == buyer[1]\n",
    "    \n",
    "    # If winner is from another bank, assert it could match internally\n",
    "    if winner[0][:3] != buyer[0][:3]:\n",
    "        for seller in sellers:\n",
    "            if buyer[1] == seller[1] and buyer != seller:\n",
    "                assert seller[0][:3] != buyer[0][:3]\n",
    "\n"
   ]
  },
  {
   "cell_type": "markdown",
   "metadata": {},
   "source": [
    "Turns out that `match_buy` sometimes let's through invalid buys"
   ]
  },
  {
   "cell_type": "code",
   "execution_count": 32,
   "metadata": {},
   "outputs": [
    {
     "data": {
      "text/plain": [
       "False"
      ]
     },
     "execution_count": 32,
     "metadata": {},
     "output_type": "execute_result"
    }
   ],
   "source": [
    "a = \"BNK!\"\n",
    "b = \"BNK!\"\n",
    "a is b"
   ]
  },
  {
   "cell_type": "markdown",
   "metadata": {},
   "source": [
    "This is becuase of the following statement:\n",
    "```python\n",
    "seller is not buyer[0]\n",
    "``` \n",
    "The `is`-operator checks for __identinty, not equality__.   \n",
    "In the case for short and simple strings cpython stores them as the same object in memory hence the code worked until SweBonk started to get more customers and their customer id´s got to long to share the same space in memory. At this point they started letting through illegal trades.\n",
    "\n",
    "Let's create an updated method and run the tests again."
   ]
  },
  {
   "cell_type": "code",
   "execution_count": 34,
   "metadata": {},
   "outputs": [
    {
     "name": "stdout",
     "output_type": "stream",
     "text": [
      ".                                                                                                                                                      [100%]\n"
     ]
    }
   ],
   "source": [
    "%%run_pytest[clean] -qq --disable-pytest-warnings \n",
    "# Updated match buy and rerun previous tests\n",
    "def match_buy_2(ticker: str, buyer: Order, sellers: List[Order]) -> Optional[Order]:\n",
    "    \"\"\"\n",
    "    Bonk stock trade buy order matcher\n",
    "    …\n",
    "    \"\"\"\n",
    "    # First try to find internal customers so we don't have to trade with other bank\n",
    "    matched_bonk_customer=((seller, price) for (seller, price) in sellers \n",
    "        if buyer[1] == price\n",
    "         and seller[:3] == buyer[0][:3]\n",
    "         # It's illegal to trade stocks with yourself\n",
    "         and seller != buyer[0] # <---<< Fixed here\n",
    "    )\n",
    "    \n",
    "    try:\n",
    "        match = next(matched_bonk_customer)\n",
    "        return match\n",
    "    except StopIteration:\n",
    "        # No couldn't match a bonk customer, keep looking\n",
    "        pass\n",
    "        \n",
    "    matched_customer=((seller, price) for (seller, price) in sellers \n",
    "        if buyer[1] == price and seller != buyer[0] # <---<< And here\n",
    "    )\n",
    "    try: \n",
    "        return next(matched_customer)\n",
    "    except StopIteration:\n",
    "        # Couldn't match any customer\n",
    "        return None\n",
    "\n",
    "@given(\n",
    "    orders,\n",
    "    st.lists(orders),\n",
    ")\n",
    "def test_trade(buyer, sellers):\n",
    "    winner = match_buy_2(\"APL\", buyer, sellers)\n",
    "    assume(winner is not None)\n",
    "    # Not traded with yourself\n",
    "    assert winner[0] != buyer[0]\n",
    "    # Price is a match\n",
    "    assert winner[1] == buyer[1]\n",
    "    \n",
    "    # If winner is from another bank, assert it could match internally\n",
    "    if winner[0][:3] != buyer[0][:3]:\n",
    "        for seller in sellers:\n",
    "            if buyer[1] == seller[1] and buyer != seller:\n",
    "                assert seller[0][:3] != buyer[0][:3]"
   ]
  },
  {
   "cell_type": "markdown",
   "metadata": {},
   "source": [
    "Based on this knowledge the SweBonk engineers took their learnings and applied on another part of there business where illegal things were happning even though their code were, they had been confident in that their solution were sufficient but had as of recently been disproven. \n",
    "\n",
    "Namley their **money laundering protection** software."
   ]
  },
  {
   "cell_type": "code",
   "execution_count": 54,
   "metadata": {},
   "outputs": [],
   "source": [
    "\"\"\"\n",
    "SweBonk – Money Laundering Protection\n",
    "TOP SECRET: Enterprise software, only for personel with security clearence\n",
    "\"\"\"\n",
    "from typing import Tuple, List\n",
    "\n",
    "Amount = float\n",
    "Account = str\n",
    "Customer = str\n",
    "# (From, Amount, Target)\n",
    "Transaction = Tuple[Account, Amount, Customer]\n",
    "\n",
    "# Current production code \n",
    "# DON'T CHANGE, CRITICAL INFRASTRUCTURE\n",
    "def verify_transaction(incoming: Transaction, blacklist: List[Account]) -> bool:\n",
    "    \"\"\" return false if incoming Transaction is from blacklisted account\n",
    "    \n",
    "    FOR SWEBONK EYES ONLY\n",
    "    \n",
    "    Args:\n",
    "        incoming: Transaction from external bank\n",
    "        blacklist: List of known accounts used for money laundering\n",
    "    \n",
    "    Returns:\n",
    "        True if transaction is safe, False if it's from an invalid account\n",
    "    \"\"\"\n",
    "    (account, *_) = incoming\n",
    "    for bad_account in blacklist:\n",
    "        if account is bad_account:\n",
    "            # Account is blacklisted\n",
    "            return False\n",
    "    # Not found in blacklist, transfer is illegal\n",
    "    return True\n"
   ]
  },
  {
   "cell_type": "code",
   "execution_count": 55,
   "metadata": {},
   "outputs": [
    {
     "name": "stdout",
     "output_type": "stream",
     "text": [
      "F                                                                                                                                                      [100%]\n",
      "========================================================================== FAILURES ==========================================================================\n",
      "_______________________________________________________________________ test_blacklist _______________________________________________________________________\n",
      "\n",
      "    @given(\n",
      ">       transaction,\n",
      "        st.lists(st.text()),\n",
      "    )\n",
      "    def test_blacklist(transfer, blacklist):\n",
      "\n",
      "<ipython-input-55-8e86a8973405>:5: \n",
      "_ _ _ _ _ _ _ _ _ _ _ _ _ _ _ _ _ _ _ _ _ _ _ _ _ _ _ _ _ _ _ _ _ _ _ _ _ _ _ _ _ _ _ _ _ _ _ _ _ _ _ _ _ _ _ _ _ _ _ _ _ _ _ _ _ _ _ _ _ _ _ _ _ _ _ _ _ _ _ \n",
      "\n",
      "transfer = ('Ā', 0.0, ''), blacklist = ['Ā']\n",
      "\n",
      "    @given(\n",
      "        transaction,\n",
      "        st.lists(st.text()),\n",
      "    )\n",
      "    def test_blacklist(transfer, blacklist):\n",
      "        (account, *_) = transfer\n",
      "        legal = verify_transaction(transfer, blacklist)\n",
      "        if legal:\n",
      "            for banned in blacklist:\n",
      ">               assert account != banned\n",
      "E               AssertionError: assert 'Ā' != 'Ā'\n",
      "\n",
      "<ipython-input-55-8e86a8973405>:13: AssertionError\n",
      "------------------------------------------------------------------------- Hypothesis -------------------------------------------------------------------------\n",
      "Falsifying example: test_blacklist(transfer=('Ā', 0.0, ''), blacklist=['Ā'])\n"
     ]
    }
   ],
   "source": [
    "%%run_pytest[clean] -qq --disable-pytest-warnings \n",
    "\n",
    "transaction = st.tuples(st.text(), st.floats(), st.text())\n",
    "\n",
    "@given(\n",
    "    transaction,\n",
    "    st.lists(st.text()),\n",
    ")\n",
    "def test_blacklist(transfer, blacklist):\n",
    "    (account, *_) = transfer\n",
    "    legal = verify_transaction(transfer, blacklist)\n",
    "    if legal:\n",
    "        for banned in blacklist:\n",
    "            assert account != banned"
   ]
  },
  {
   "cell_type": "code",
   "execution_count": 56,
   "metadata": {},
   "outputs": [
    {
     "name": "stdout",
     "output_type": "stream",
     "text": [
      ".                                                                                                                                                      [100%]\n"
     ]
    }
   ],
   "source": [
    "%%run_pytest[clean] -qq --disable-pytest-warnings \n",
    "\n",
    "# New and improved version, fixed dangerous bug\n",
    "def verify_transaction_2(incoming: Transaction, blacklist: List[Account]) -> bool:\n",
    "    \"\"\" … \"\"\"\n",
    "    (account, *_) = incoming\n",
    "    return account not in blacklist\n",
    "\n",
    "@given(\n",
    "    transaction,\n",
    "    st.lists(st.text()),\n",
    ")\n",
    "def test_blacklist(transfer, blacklist):\n",
    "    (account, *_) = transfer\n",
    "    legal = verify_transaction_2(transfer, blacklist)\n",
    "    if legal:\n",
    "        for banned in blacklist:\n",
    "            assert account != banned"
   ]
  },
  {
   "cell_type": "markdown",
   "metadata": {},
   "source": [
    "And there we have it, the bug is fixed and transfers from blacklisted accounts are no longer slipping through!\n",
    "\n",
    "\n",
    "\n",
    "\n"
   ]
  },
  {
   "cell_type": "markdown",
   "metadata": {},
   "source": [
    "\n",
    "---\n",
    "\n",
    "\n",
    "```\n",
    "  .  Hultnér      \n",
    " ..: Technologies \n",
    "```\n",
    "https://hultner.se  \n",
    "contact@hultner.se  \n",
    "https://twitter.com/ahultner\n",
    "\n"
   ]
  }
 ],
 "metadata": {
  "kernelspec": {
   "display_name": "Python 3",
   "language": "python",
   "name": "python3"
  },
  "language_info": {
   "codemirror_mode": {
    "name": "ipython",
    "version": 3
   },
   "file_extension": ".py",
   "mimetype": "text/x-python",
   "name": "python",
   "nbconvert_exporter": "python",
   "pygments_lexer": "ipython3",
   "version": "3.7.2"
  }
 },
 "nbformat": 4,
 "nbformat_minor": 2
}
