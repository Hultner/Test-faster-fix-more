{
 "cells": [
  {
   "cell_type": "code",
   "execution_count": 21,
   "metadata": {},
   "outputs": [
    {
     "name": "stdout",
     "output_type": "stream",
     "text": [
      "               .\n",
      "              ..:\n",
      "            Hultnér\n",
      "          Technologies\n",
      "\n",
      "@ahultner | https://hultner.se/\n"
     ]
    }
   ],
   "source": [
    "def s(x): return \" \"*(10+x)\n",
    "print(s(5)+\".\\n\"+s(4)+\"..:\\n\"+s(2)+\"Hultnér\\n\"+s(0)+\"Technologies\\n\\n@ahultner | https://hultner.se/\")"
   ]
  },
  {
   "cell_type": "markdown",
   "metadata": {},
   "source": [
    "#  Property based testing\n",
    "\n",
    "In this demo I will use a pretend bank named **\"Bonk, _the_ bank\"**, Bonk have some problems with their code which they need help with."
   ]
  },
  {
   "cell_type": "code",
   "execution_count": 125,
   "metadata": {},
   "outputs": [
    {
     "name": "stdout",
     "output_type": "stream",
     "text": [
      "BNK01\n"
     ]
    },
    {
     "data": {
      "text/plain": [
       "('BNK01', 42.0)"
      ]
     },
     "execution_count": 125,
     "metadata": {},
     "output_type": "execute_result"
    }
   ],
   "source": [
    "from typing import Tuple, List, Optional\n",
    "\n",
    "Price = float\n",
    "# A Bonk customer will be prefixed with BNK and suffixed with a id e.g. BNK89\n",
    "# Rival banks customers are prefixed RVL, eg RVL1209-3844-2534\n",
    "Customer = str \n",
    "\n",
    "Order = Tuple[Customer, Price]\n",
    "def bnk(a,b): return a != b\n",
    "\n",
    "def match_buy(ticker: str, buyer: Order, sellers: List[Order]) -> Optional[Order]:\n",
    "    \"\"\"\n",
    "    Bonk stock trade buy order matcher\n",
    "    \n",
    "    ticker: The \"ticker\" id of stock to trade\n",
    "    sellers: Sellers wanting to sell stocks at the pricer the buyer gave\n",
    "    returns: Matched seller, None if we couldn't complete the trade\n",
    "    \"\"\"\n",
    "    # First try to find Bonk customers so we don't have to trade with other bank\n",
    "    matched_bonk_customer=((seller, price) for (seller, price) in sellers \n",
    "        if buyer[1] == price\n",
    "         and seller[:3] == \"BNK\"\n",
    "         # It's illegal to trade stocks with yourself\n",
    "         and seller is not buyer[0]\n",
    "    )\n",
    "    \n",
    "    try:\n",
    "        match = next(matched_bonk_customer)\n",
    "        print(match[0])\n",
    "        if(match[0] == buyer[0]):\n",
    "            return False\n",
    "        return match\n",
    "    except StopIteration:\n",
    "        # No couldn't match a bonk customer, keep looking\n",
    "        pass\n",
    "        \n",
    "    matched_customer=((seller, price) for (seller, price) in sellers \n",
    "        if buyer[1] == price and seller is not buyer[0]\n",
    "    )\n",
    "    try: \n",
    "        return next(matched_customer)\n",
    "    except StopIteration:\n",
    "        # Couldn't match any customer\n",
    "        return None\n",
    "\n",
    "\n",
    "buyer = (\"BNK421\", 42.0)\n",
    "sellers = [\n",
    "    # Illegal, will be skipped\n",
    "    (\"BNK421\", 42.0),\n",
    "    # Rival bank match, we'd rather want Bonk customers\n",
    "    (\"RVL1209-1321-2348\", 42.20),\n",
    "    (\"RVL1209-9323-2148\", 42.0),\n",
    "    (\"BNK12\", 42.20),\n",
    "    # This is the \"best\" match\n",
    "    (\"BNK01\", 42.0),\n",
    "]\n",
    "\n",
    "match_buy(\"APL\", buyer, sellers)"
   ]
  },
  {
   "cell_type": "code",
   "execution_count": 103,
   "metadata": {},
   "outputs": [
    {
     "data": {
      "text/plain": [
       "True"
      ]
     },
     "execution_count": 103,
     "metadata": {},
     "output_type": "execute_result"
    }
   ],
   "source": [
    "a = \"wtf\"\n",
    "b = \"wtf\"\n",
    "a is b"
   ]
  },
  {
   "cell_type": "code",
   "execution_count": 26,
   "metadata": {},
   "outputs": [
    {
     "data": {
      "text/plain": [
       "False"
      ]
     },
     "execution_count": 26,
     "metadata": {},
     "output_type": "execute_result"
    }
   ],
   "source": [
    "1 is 2"
   ]
  },
  {
   "cell_type": "code",
   "execution_count": 38,
   "metadata": {},
   "outputs": [
    {
     "data": {
      "text/plain": [
       "0"
      ]
     },
     "execution_count": 38,
     "metadata": {},
     "output_type": "execute_result"
    }
   ],
   "source": [
    "y = (x for x in range(2))\n"
   ]
  },
  {
   "cell_type": "code",
   "execution_count": 50,
   "metadata": {},
   "outputs": [
    {
     "ename": "StopIteration",
     "evalue": "",
     "output_type": "error",
     "traceback": [
      "\u001b[0;31m---------------------------------------------------------------------------\u001b[0m",
      "\u001b[0;31mStopIteration\u001b[0m                             Traceback (most recent call last)",
      "\u001b[0;32m<ipython-input-50-81b9d2f0f16a>\u001b[0m in \u001b[0;36m<module>\u001b[0;34m\u001b[0m\n\u001b[0;32m----> 1\u001b[0;31m \u001b[0mnext\u001b[0m\u001b[0;34m(\u001b[0m\u001b[0my\u001b[0m\u001b[0;34m)\u001b[0m\u001b[0;34m\u001b[0m\u001b[0;34m\u001b[0m\u001b[0m\n\u001b[0m",
      "\u001b[0;31mStopIteration\u001b[0m: "
     ]
    }
   ],
   "source": [
    "next(y)"
   ]
  },
  {
   "cell_type": "code",
   "execution_count": 63,
   "metadata": {},
   "outputs": [
    {
     "data": {
      "text/plain": [
       "'RVL'"
      ]
     },
     "execution_count": 63,
     "metadata": {},
     "output_type": "execute_result"
    }
   ],
   "source": [
    "\"RVL132148\"[:3]"
   ]
  },
  {
   "cell_type": "code",
   "execution_count": 70,
   "metadata": {},
   "outputs": [
    {
     "data": {
      "text/plain": [
       "True"
      ]
     },
     "execution_count": 70,
     "metadata": {},
     "output_type": "execute_result"
    }
   ],
   "source": [
    "buyer[0] is \"BNK42\""
   ]
  },
  {
   "cell_type": "code",
   "execution_count": 76,
   "metadata": {},
   "outputs": [
    {
     "data": {
      "text/plain": [
       "True"
      ]
     },
     "execution_count": 76,
     "metadata": {},
     "output_type": "execute_result"
    }
   ],
   "source": [
    "\n",
    "sellers[0][0] is buyer[0]"
   ]
  },
  {
   "cell_type": "code",
   "execution_count": 80,
   "metadata": {},
   "outputs": [
    {
     "data": {
      "text/plain": [
       "True"
      ]
     },
     "execution_count": 80,
     "metadata": {},
     "output_type": "execute_result"
    }
   ],
   "source": [
    "def bnk(a,b): return a is b\n",
    "bnk(sellers[0][0], buyer[0])"
   ]
  },
  {
   "cell_type": "code",
   "execution_count": 117,
   "metadata": {},
   "outputs": [
    {
     "data": {
      "text/plain": [
       "'BNKaa719b38-d7d4-4ba7-af69-0d26393d6f64'"
      ]
     },
     "execution_count": 117,
     "metadata": {},
     "output_type": "execute_result"
    }
   ],
   "source": [
    "from uuid import uuid4\n",
    "f\"BNK{uuid4()}\""
   ]
  },
  {
   "cell_type": "code",
   "execution_count": null,
   "metadata": {},
   "outputs": [],
   "source": [
    "# SweBonk\n",
    "# Known money laundering accounts\n",
    "# ...\n",
    "\n",
    "# Use default mutable arguments?"
   ]
  }
 ],
 "metadata": {
  "kernelspec": {
   "display_name": "Python 3",
   "language": "python",
   "name": "python3"
  },
  "language_info": {
   "codemirror_mode": {
    "name": "ipython",
    "version": 3
   },
   "file_extension": ".py",
   "mimetype": "text/x-python",
   "name": "python",
   "nbconvert_exporter": "python",
   "pygments_lexer": "ipython3",
   "version": "3.7.2"
  }
 },
 "nbformat": 4,
 "nbformat_minor": 2
}
