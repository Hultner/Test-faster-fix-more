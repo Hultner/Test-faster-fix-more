{
 "cells": [
  {
   "cell_type": "code",
   "execution_count": 13,
   "metadata": {},
   "outputs": [
    {
     "name": "stdout",
     "output_type": "stream",
     "text": [
      "               .\n",
      "              ..:\n",
      "            Hultnér\n",
      "          Technologies\n",
      "\n",
      "@ahultner | https://hultner.se/\n"
     ]
    }
   ],
   "source": [
    "def s(x): return \" \"*(10+x)\n",
    "print(s(5)+\".\\n\"+s(4)+\"..:\\n\"+s(2)+\"Hultnér\\n\"+s(0)+\"Technologies\\n\\n@ahultner | https://hultner.se/\")\n",
    "import hypothesis\n",
    "from hypothesis import given, assume, example\n",
    "import hypothesis.strategies as st\n",
    "import pytest\n",
    "import ipytest\n",
    "ipytest.config(rewrite_asserts=True, magics=True)\n",
    "__file__ = \"demo.ipynb\""
   ]
  },
  {
   "cell_type": "markdown",
   "metadata": {},
   "source": [
    "# Snippets from slides \n",
    "From the talk _\"Test faster, fix more\"_ at foss-north 2019"
   ]
  },
  {
   "cell_type": "code",
   "execution_count": 19,
   "metadata": {},
   "outputs": [
    {
     "name": "stdout",
     "output_type": "stream",
     "text": [
      ".                                                                                                                                                      [100%]\n"
     ]
    }
   ],
   "source": [
    "%%run_pytest[clean] -qq --disable-pytest-warnings \n",
    "from hypothesis import given\n",
    "import hypothesis.strategies as st\n",
    "\n",
    "@given(\n",
    "    st.integers(), \n",
    "    st.integers()\n",
    ")\n",
    "def test_ints_are_commutative(x, y):\n",
    "    assert x + y == y + x"
   ]
  },
  {
   "cell_type": "code",
   "execution_count": 15,
   "metadata": {},
   "outputs": [],
   "source": [
    "# Buggy implementation of add\n",
    "def add(a, b): \n",
    "    return a if a < 0 else a + b"
   ]
  },
  {
   "cell_type": "code",
   "execution_count": 16,
   "metadata": {},
   "outputs": [
    {
     "name": "stdout",
     "output_type": "stream",
     "text": [
      "F                                                                                                                                                      [100%]\n",
      "========================================================================== FAILURES ==========================================================================\n",
      "__________________________________________________________________________ test_add __________________________________________________________________________\n",
      "\n",
      "    @given(st.integers(), st.integers())\n",
      ">   def test_add(a, b):\n",
      "\n",
      "<ipython-input-16-addb7175800f>:3: \n",
      "_ _ _ _ _ _ _ _ _ _ _ _ _ _ _ _ _ _ _ _ _ _ _ _ _ _ _ _ _ _ _ _ _ _ _ _ _ _ _ _ _ _ _ _ _ _ _ _ _ _ _ _ _ _ _ _ _ _ _ _ _ _ _ _ _ _ _ _ _ _ _ _ _ _ _ _ _ _ _ \n",
      "\n",
      "a = -1, b = 1\n",
      "\n",
      "    @given(st.integers(), st.integers())\n",
      "    def test_add(a, b):\n",
      ">       assert add(a, b) == a + b\n",
      "E       assert -1 == 0\n",
      "E         --1\n",
      "E         +0\n",
      "\n",
      "<ipython-input-16-addb7175800f>:4: AssertionError\n",
      "------------------------------------------------------------------------- Hypothesis -------------------------------------------------------------------------\n",
      "Falsifying example: test_add(a=-1, b=1)\n"
     ]
    }
   ],
   "source": [
    "%%run_pytest[clean] -qq --disable-pytest-warnings \n",
    "\n",
    "@given(st.integers(), st.integers())\n",
    "def test_add(a, b):\n",
    "    assert add(a, b) == a + b"
   ]
  },
  {
   "cell_type": "code",
   "execution_count": 17,
   "metadata": {},
   "outputs": [],
   "source": [
    "# Fixed add\n",
    "def add(a, b): \n",
    "    return a + b"
   ]
  },
  {
   "cell_type": "code",
   "execution_count": 18,
   "metadata": {},
   "outputs": [
    {
     "name": "stdout",
     "output_type": "stream",
     "text": [
      ".                                                                                                                                                      [100%]\n"
     ]
    }
   ],
   "source": [
    "%%run_pytest[clean] -qq --disable-pytest-warnings \n",
    "\n",
    "@given(st.integers(), st.integers())\n",
    "## Add previous bug as an example\n",
    "@example(-1, 1)\n",
    "def test_add(a, b):\n",
    "    assert add(a, b) == a + b"
   ]
  }
 ],
 "metadata": {
  "kernelspec": {
   "display_name": "Python 3",
   "language": "python",
   "name": "python3"
  },
  "language_info": {
   "codemirror_mode": {
    "name": "ipython",
    "version": 3
   },
   "file_extension": ".py",
   "mimetype": "text/x-python",
   "name": "python",
   "nbconvert_exporter": "python",
   "pygments_lexer": "ipython3",
   "version": "3.7.2"
  }
 },
 "nbformat": 4,
 "nbformat_minor": 2
}
